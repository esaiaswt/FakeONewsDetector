{
  "nbformat": 4,
  "nbformat_minor": 0,
  "metadata": {
    "colab": {
      "provenance": []
    },
    "kernelspec": {
      "name": "python3",
      "display_name": "Python 3"
    },
    "language_info": {
      "name": "python"
    }
  },
  "cells": [
    {
      "cell_type": "markdown",
      "source": [
        "# Fake-o-News Detector\n",
        "\n",
        "This is based on AWS excellent blog [Harness large language models in fake news detection](https://aws.amazon.com/blogs/machine-learning/harness-large-language-models-in-fake-news-detection/).\n",
        "\n",
        "I have modified to Google's Gemini to enourage more coders out there to look into this area of using the power of technology to do good: by getting rid the bad and the ugly \"fake news\".  I do encourage all to try AWS's Bedrock and other LLMs to make this area of fake news detection an daily successful applications of Generative AI.\n",
        "\n",
        "The AWS blog do give this project a good start into [LangChain](https://www.langchain.com/) with LLM.\n",
        "\n",
        "##References\n",
        "* https://aws.amazon.com/blogs/machine-learning/harness-large-language-models-in-fake-news-detection/\n",
        "* https://dev.to/timesurgelabs/how-to-use-googles-gemini-pro-with-langchain-1eje"
      ],
      "metadata": {
        "id": "c9TMDKM1GvrV"
      }
    },
    {
      "cell_type": "markdown",
      "source": [
        "## Install the necessary packages"
      ],
      "metadata": {
        "id": "4lHBTQ19Wc6-"
      }
    },
    {
      "cell_type": "code",
      "source": [
        "!pip install langchain"
      ],
      "metadata": {
        "colab": {
          "base_uri": "https://localhost:8080/"
        },
        "id": "EvJK5Z_z6rJM",
        "outputId": "0eaeae4e-23e9-4a4e-804b-aaf1de0dd256"
      },
      "execution_count": 1,
      "outputs": [
        {
          "output_type": "stream",
          "name": "stdout",
          "text": [
            "Collecting langchain\n",
            "  Downloading langchain-0.1.16-py3-none-any.whl (817 kB)\n",
            "\u001b[2K     \u001b[90m━━━━━━━━━━━━━━━━━━━━━━━━━━━━━━━━━━━━━━━━\u001b[0m \u001b[32m817.7/817.7 kB\u001b[0m \u001b[31m6.4 MB/s\u001b[0m eta \u001b[36m0:00:00\u001b[0m\n",
            "\u001b[?25hRequirement already satisfied: PyYAML>=5.3 in /usr/local/lib/python3.10/dist-packages (from langchain) (6.0.1)\n",
            "Requirement already satisfied: SQLAlchemy<3,>=1.4 in /usr/local/lib/python3.10/dist-packages (from langchain) (2.0.29)\n",
            "Requirement already satisfied: aiohttp<4.0.0,>=3.8.3 in /usr/local/lib/python3.10/dist-packages (from langchain) (3.9.3)\n",
            "Requirement already satisfied: async-timeout<5.0.0,>=4.0.0 in /usr/local/lib/python3.10/dist-packages (from langchain) (4.0.3)\n",
            "Collecting dataclasses-json<0.7,>=0.5.7 (from langchain)\n",
            "  Downloading dataclasses_json-0.6.4-py3-none-any.whl (28 kB)\n",
            "Collecting jsonpatch<2.0,>=1.33 (from langchain)\n",
            "  Downloading jsonpatch-1.33-py2.py3-none-any.whl (12 kB)\n",
            "Collecting langchain-community<0.1,>=0.0.32 (from langchain)\n",
            "  Downloading langchain_community-0.0.32-py3-none-any.whl (1.9 MB)\n",
            "\u001b[2K     \u001b[90m━━━━━━━━━━━━━━━━━━━━━━━━━━━━━━━━━━━━━━━━\u001b[0m \u001b[32m1.9/1.9 MB\u001b[0m \u001b[31m13.8 MB/s\u001b[0m eta \u001b[36m0:00:00\u001b[0m\n",
            "\u001b[?25hCollecting langchain-core<0.2.0,>=0.1.42 (from langchain)\n",
            "  Downloading langchain_core-0.1.42-py3-none-any.whl (287 kB)\n",
            "\u001b[2K     \u001b[90m━━━━━━━━━━━━━━━━━━━━━━━━━━━━━━━━━━━━━━━━\u001b[0m \u001b[32m287.5/287.5 kB\u001b[0m \u001b[31m12.4 MB/s\u001b[0m eta \u001b[36m0:00:00\u001b[0m\n",
            "\u001b[?25hCollecting langchain-text-splitters<0.1,>=0.0.1 (from langchain)\n",
            "  Downloading langchain_text_splitters-0.0.1-py3-none-any.whl (21 kB)\n",
            "Collecting langsmith<0.2.0,>=0.1.17 (from langchain)\n",
            "  Downloading langsmith-0.1.46-py3-none-any.whl (111 kB)\n",
            "\u001b[2K     \u001b[90m━━━━━━━━━━━━━━━━━━━━━━━━━━━━━━━━━━━━━━━━\u001b[0m \u001b[32m111.5/111.5 kB\u001b[0m \u001b[31m10.3 MB/s\u001b[0m eta \u001b[36m0:00:00\u001b[0m\n",
            "\u001b[?25hRequirement already satisfied: numpy<2,>=1 in /usr/local/lib/python3.10/dist-packages (from langchain) (1.25.2)\n",
            "Requirement already satisfied: pydantic<3,>=1 in /usr/local/lib/python3.10/dist-packages (from langchain) (2.6.4)\n",
            "Requirement already satisfied: requests<3,>=2 in /usr/local/lib/python3.10/dist-packages (from langchain) (2.31.0)\n",
            "Requirement already satisfied: tenacity<9.0.0,>=8.1.0 in /usr/local/lib/python3.10/dist-packages (from langchain) (8.2.3)\n",
            "Requirement already satisfied: aiosignal>=1.1.2 in /usr/local/lib/python3.10/dist-packages (from aiohttp<4.0.0,>=3.8.3->langchain) (1.3.1)\n",
            "Requirement already satisfied: attrs>=17.3.0 in /usr/local/lib/python3.10/dist-packages (from aiohttp<4.0.0,>=3.8.3->langchain) (23.2.0)\n",
            "Requirement already satisfied: frozenlist>=1.1.1 in /usr/local/lib/python3.10/dist-packages (from aiohttp<4.0.0,>=3.8.3->langchain) (1.4.1)\n",
            "Requirement already satisfied: multidict<7.0,>=4.5 in /usr/local/lib/python3.10/dist-packages (from aiohttp<4.0.0,>=3.8.3->langchain) (6.0.5)\n",
            "Requirement already satisfied: yarl<2.0,>=1.0 in /usr/local/lib/python3.10/dist-packages (from aiohttp<4.0.0,>=3.8.3->langchain) (1.9.4)\n",
            "Collecting marshmallow<4.0.0,>=3.18.0 (from dataclasses-json<0.7,>=0.5.7->langchain)\n",
            "  Downloading marshmallow-3.21.1-py3-none-any.whl (49 kB)\n",
            "\u001b[2K     \u001b[90m━━━━━━━━━━━━━━━━━━━━━━━━━━━━━━━━━━━━━━━━\u001b[0m \u001b[32m49.4/49.4 kB\u001b[0m \u001b[31m2.3 MB/s\u001b[0m eta \u001b[36m0:00:00\u001b[0m\n",
            "\u001b[?25hCollecting typing-inspect<1,>=0.4.0 (from dataclasses-json<0.7,>=0.5.7->langchain)\n",
            "  Downloading typing_inspect-0.9.0-py3-none-any.whl (8.8 kB)\n",
            "Collecting jsonpointer>=1.9 (from jsonpatch<2.0,>=1.33->langchain)\n",
            "  Downloading jsonpointer-2.4-py2.py3-none-any.whl (7.8 kB)\n",
            "Collecting packaging<24.0,>=23.2 (from langchain-core<0.2.0,>=0.1.42->langchain)\n",
            "  Downloading packaging-23.2-py3-none-any.whl (53 kB)\n",
            "\u001b[2K     \u001b[90m━━━━━━━━━━━━━━━━━━━━━━━━━━━━━━━━━━━━━━━━\u001b[0m \u001b[32m53.0/53.0 kB\u001b[0m \u001b[31m4.5 MB/s\u001b[0m eta \u001b[36m0:00:00\u001b[0m\n",
            "\u001b[?25hCollecting orjson<4.0.0,>=3.9.14 (from langsmith<0.2.0,>=0.1.17->langchain)\n",
            "  Downloading orjson-3.10.0-cp310-cp310-manylinux_2_17_x86_64.manylinux2014_x86_64.whl (144 kB)\n",
            "\u001b[2K     \u001b[90m━━━━━━━━━━━━━━━━━━━━━━━━━━━━━━━━━━━━━━━━\u001b[0m \u001b[32m144.8/144.8 kB\u001b[0m \u001b[31m1.8 MB/s\u001b[0m eta \u001b[36m0:00:00\u001b[0m\n",
            "\u001b[?25hRequirement already satisfied: annotated-types>=0.4.0 in /usr/local/lib/python3.10/dist-packages (from pydantic<3,>=1->langchain) (0.6.0)\n",
            "Requirement already satisfied: pydantic-core==2.16.3 in /usr/local/lib/python3.10/dist-packages (from pydantic<3,>=1->langchain) (2.16.3)\n",
            "Requirement already satisfied: typing-extensions>=4.6.1 in /usr/local/lib/python3.10/dist-packages (from pydantic<3,>=1->langchain) (4.11.0)\n",
            "Requirement already satisfied: charset-normalizer<4,>=2 in /usr/local/lib/python3.10/dist-packages (from requests<3,>=2->langchain) (3.3.2)\n",
            "Requirement already satisfied: idna<4,>=2.5 in /usr/local/lib/python3.10/dist-packages (from requests<3,>=2->langchain) (3.6)\n",
            "Requirement already satisfied: urllib3<3,>=1.21.1 in /usr/local/lib/python3.10/dist-packages (from requests<3,>=2->langchain) (2.0.7)\n",
            "Requirement already satisfied: certifi>=2017.4.17 in /usr/local/lib/python3.10/dist-packages (from requests<3,>=2->langchain) (2024.2.2)\n",
            "Requirement already satisfied: greenlet!=0.4.17 in /usr/local/lib/python3.10/dist-packages (from SQLAlchemy<3,>=1.4->langchain) (3.0.3)\n",
            "Collecting mypy-extensions>=0.3.0 (from typing-inspect<1,>=0.4.0->dataclasses-json<0.7,>=0.5.7->langchain)\n",
            "  Downloading mypy_extensions-1.0.0-py3-none-any.whl (4.7 kB)\n",
            "Installing collected packages: packaging, orjson, mypy-extensions, jsonpointer, typing-inspect, marshmallow, jsonpatch, langsmith, dataclasses-json, langchain-core, langchain-text-splitters, langchain-community, langchain\n",
            "  Attempting uninstall: packaging\n",
            "    Found existing installation: packaging 24.0\n",
            "    Uninstalling packaging-24.0:\n",
            "      Successfully uninstalled packaging-24.0\n",
            "Successfully installed dataclasses-json-0.6.4 jsonpatch-1.33 jsonpointer-2.4 langchain-0.1.16 langchain-community-0.0.32 langchain-core-0.1.42 langchain-text-splitters-0.0.1 langsmith-0.1.46 marshmallow-3.21.1 mypy-extensions-1.0.0 orjson-3.10.0 packaging-23.2 typing-inspect-0.9.0\n"
          ]
        }
      ]
    },
    {
      "cell_type": "code",
      "source": [
        "!pip install langchainhub"
      ],
      "metadata": {
        "colab": {
          "base_uri": "https://localhost:8080/"
        },
        "id": "I4oaJDB9QBFY",
        "outputId": "c0567cb6-7d29-49c8-c877-a8f10c3f2b13"
      },
      "execution_count": 2,
      "outputs": [
        {
          "output_type": "stream",
          "name": "stdout",
          "text": [
            "Collecting langchainhub\n",
            "  Downloading langchainhub-0.1.15-py3-none-any.whl (4.6 kB)\n",
            "Requirement already satisfied: requests<3,>=2 in /usr/local/lib/python3.10/dist-packages (from langchainhub) (2.31.0)\n",
            "Collecting types-requests<3.0.0.0,>=2.31.0.2 (from langchainhub)\n",
            "  Downloading types_requests-2.31.0.20240406-py3-none-any.whl (15 kB)\n",
            "Requirement already satisfied: charset-normalizer<4,>=2 in /usr/local/lib/python3.10/dist-packages (from requests<3,>=2->langchainhub) (3.3.2)\n",
            "Requirement already satisfied: idna<4,>=2.5 in /usr/local/lib/python3.10/dist-packages (from requests<3,>=2->langchainhub) (3.6)\n",
            "Requirement already satisfied: urllib3<3,>=1.21.1 in /usr/local/lib/python3.10/dist-packages (from requests<3,>=2->langchainhub) (2.0.7)\n",
            "Requirement already satisfied: certifi>=2017.4.17 in /usr/local/lib/python3.10/dist-packages (from requests<3,>=2->langchainhub) (2024.2.2)\n",
            "Installing collected packages: types-requests, langchainhub\n",
            "Successfully installed langchainhub-0.1.15 types-requests-2.31.0.20240406\n"
          ]
        }
      ]
    },
    {
      "cell_type": "code",
      "source": [
        "!pip install python-dotenv"
      ],
      "metadata": {
        "colab": {
          "base_uri": "https://localhost:8080/"
        },
        "id": "bVV0BSdx6zbH",
        "outputId": "14748a5f-ba41-4fe3-c4e3-1ba9b01b03f1"
      },
      "execution_count": 3,
      "outputs": [
        {
          "output_type": "stream",
          "name": "stdout",
          "text": [
            "Collecting python-dotenv\n",
            "  Downloading python_dotenv-1.0.1-py3-none-any.whl (19 kB)\n",
            "Installing collected packages: python-dotenv\n",
            "Successfully installed python-dotenv-1.0.1\n"
          ]
        }
      ]
    },
    {
      "cell_type": "code",
      "source": [
        "!pip install -q -U google-generativeai"
      ],
      "metadata": {
        "id": "Mk3flLph7c7k",
        "colab": {
          "base_uri": "https://localhost:8080/"
        },
        "outputId": "8a22ba12-3af9-4512-c7d9-d3717436217b"
      },
      "execution_count": 4,
      "outputs": [
        {
          "output_type": "stream",
          "name": "stdout",
          "text": [
            "\u001b[2K     \u001b[90m━━━━━━━━━━━━━━━━━━━━━━━━━━━━━━━━━━━━━━━━\u001b[0m \u001b[32m142.1/142.1 kB\u001b[0m \u001b[31m3.7 MB/s\u001b[0m eta \u001b[36m0:00:00\u001b[0m\n",
            "\u001b[2K     \u001b[90m━━━━━━━━━━━━━━━━━━━━━━━━━━━━━━━━━━━━━━━━\u001b[0m \u001b[32m663.6/663.6 kB\u001b[0m \u001b[31m11.1 MB/s\u001b[0m eta \u001b[36m0:00:00\u001b[0m\n",
            "\u001b[?25h"
          ]
        }
      ]
    },
    {
      "cell_type": "code",
      "source": [
        "!pip install wikipedia"
      ],
      "metadata": {
        "colab": {
          "base_uri": "https://localhost:8080/"
        },
        "id": "GOv5pYhT8bjb",
        "outputId": "a12ad253-c3d9-435d-e652-14d999454d35"
      },
      "execution_count": 5,
      "outputs": [
        {
          "output_type": "stream",
          "name": "stdout",
          "text": [
            "Collecting wikipedia\n",
            "  Downloading wikipedia-1.4.0.tar.gz (27 kB)\n",
            "  Preparing metadata (setup.py) ... \u001b[?25l\u001b[?25hdone\n",
            "Requirement already satisfied: beautifulsoup4 in /usr/local/lib/python3.10/dist-packages (from wikipedia) (4.12.3)\n",
            "Requirement already satisfied: requests<3.0.0,>=2.0.0 in /usr/local/lib/python3.10/dist-packages (from wikipedia) (2.31.0)\n",
            "Requirement already satisfied: charset-normalizer<4,>=2 in /usr/local/lib/python3.10/dist-packages (from requests<3.0.0,>=2.0.0->wikipedia) (3.3.2)\n",
            "Requirement already satisfied: idna<4,>=2.5 in /usr/local/lib/python3.10/dist-packages (from requests<3.0.0,>=2.0.0->wikipedia) (3.6)\n",
            "Requirement already satisfied: urllib3<3,>=1.21.1 in /usr/local/lib/python3.10/dist-packages (from requests<3.0.0,>=2.0.0->wikipedia) (2.0.7)\n",
            "Requirement already satisfied: certifi>=2017.4.17 in /usr/local/lib/python3.10/dist-packages (from requests<3.0.0,>=2.0.0->wikipedia) (2024.2.2)\n",
            "Requirement already satisfied: soupsieve>1.2 in /usr/local/lib/python3.10/dist-packages (from beautifulsoup4->wikipedia) (2.5)\n",
            "Building wheels for collected packages: wikipedia\n",
            "  Building wheel for wikipedia (setup.py) ... \u001b[?25l\u001b[?25hdone\n",
            "  Created wheel for wikipedia: filename=wikipedia-1.4.0-py3-none-any.whl size=11680 sha256=9fd57f2f652fae36f00cb384dca4a14be9f253438643061a8f85cdf326e6912e\n",
            "  Stored in directory: /root/.cache/pip/wheels/5e/b6/c5/93f3dec388ae76edc830cb42901bb0232504dfc0df02fc50de\n",
            "Successfully built wikipedia\n",
            "Installing collected packages: wikipedia\n",
            "Successfully installed wikipedia-1.4.0\n"
          ]
        }
      ]
    },
    {
      "cell_type": "code",
      "source": [
        "!pip -q install duckduckgo-search"
      ],
      "metadata": {
        "id": "qh4iGSpFnaHc",
        "colab": {
          "base_uri": "https://localhost:8080/"
        },
        "outputId": "b49f385a-4e83-46f0-b303-485638798836"
      },
      "execution_count": 6,
      "outputs": [
        {
          "output_type": "stream",
          "name": "stdout",
          "text": [
            "\u001b[?25l     \u001b[90m━━━━━━━━━━━━━━━━━━━━━━━━━━━━━━━━━━━━━━━━\u001b[0m \u001b[32m0.0/5.7 MB\u001b[0m \u001b[31m?\u001b[0m eta \u001b[36m-:--:--\u001b[0m\r\u001b[2K     \u001b[91m━━━\u001b[0m\u001b[90m╺\u001b[0m\u001b[90m━━━━━━━━━━━━━━━━━━━━━━━━━━━━━━━━━━━━\u001b[0m \u001b[32m0.4/5.7 MB\u001b[0m \u001b[31m12.7 MB/s\u001b[0m eta \u001b[36m0:00:01\u001b[0m\r\u001b[2K     \u001b[91m━━━━━━━━━━━━━━━━━━━━━━━━━━\u001b[0m\u001b[90m╺\u001b[0m\u001b[90m━━━━━━━━━━━━━\u001b[0m \u001b[32m3.8/5.7 MB\u001b[0m \u001b[31m54.9 MB/s\u001b[0m eta \u001b[36m0:00:01\u001b[0m\r\u001b[2K     \u001b[91m━━━━━━━━━━━━━━━━━━━━━━━━━━━━━━━━━━━━━━━\u001b[0m\u001b[91m╸\u001b[0m \u001b[32m5.7/5.7 MB\u001b[0m \u001b[31m70.9 MB/s\u001b[0m eta \u001b[36m0:00:01\u001b[0m\r\u001b[2K     \u001b[90m━━━━━━━━━━━━━━━━━━━━━━━━━━━━━━━━━━━━━━━━\u001b[0m \u001b[32m5.7/5.7 MB\u001b[0m \u001b[31m46.6 MB/s\u001b[0m eta \u001b[36m0:00:00\u001b[0m\n",
            "\u001b[?25h"
          ]
        }
      ]
    },
    {
      "cell_type": "code",
      "source": [
        "!pip install google-generativeai langchain-google-genai"
      ],
      "metadata": {
        "colab": {
          "base_uri": "https://localhost:8080/"
        },
        "id": "F6V6EeU9Fh1P",
        "outputId": "92a94f2c-939f-4cfc-a31f-8db1ec78a91b"
      },
      "execution_count": 7,
      "outputs": [
        {
          "output_type": "stream",
          "name": "stdout",
          "text": [
            "Requirement already satisfied: google-generativeai in /usr/local/lib/python3.10/dist-packages (0.5.0)\n",
            "Collecting langchain-google-genai\n",
            "  Downloading langchain_google_genai-1.0.2-py3-none-any.whl (28 kB)\n",
            "Requirement already satisfied: google-ai-generativelanguage==0.6.1 in /usr/local/lib/python3.10/dist-packages (from google-generativeai) (0.6.1)\n",
            "Requirement already satisfied: google-api-core in /usr/local/lib/python3.10/dist-packages (from google-generativeai) (2.11.1)\n",
            "Requirement already satisfied: google-api-python-client in /usr/local/lib/python3.10/dist-packages (from google-generativeai) (2.84.0)\n",
            "Requirement already satisfied: google-auth>=2.15.0 in /usr/local/lib/python3.10/dist-packages (from google-generativeai) (2.27.0)\n",
            "Requirement already satisfied: protobuf in /usr/local/lib/python3.10/dist-packages (from google-generativeai) (3.20.3)\n",
            "Requirement already satisfied: pydantic in /usr/local/lib/python3.10/dist-packages (from google-generativeai) (2.6.4)\n",
            "Requirement already satisfied: tqdm in /usr/local/lib/python3.10/dist-packages (from google-generativeai) (4.66.2)\n",
            "Requirement already satisfied: typing-extensions in /usr/local/lib/python3.10/dist-packages (from google-generativeai) (4.11.0)\n",
            "Requirement already satisfied: proto-plus<2.0.0dev,>=1.22.3 in /usr/local/lib/python3.10/dist-packages (from google-ai-generativelanguage==0.6.1->google-generativeai) (1.23.0)\n",
            "Requirement already satisfied: langchain-core<0.2,>=0.1.27 in /usr/local/lib/python3.10/dist-packages (from langchain-google-genai) (0.1.42)\n",
            "Requirement already satisfied: cachetools<6.0,>=2.0.0 in /usr/local/lib/python3.10/dist-packages (from google-auth>=2.15.0->google-generativeai) (5.3.3)\n",
            "Requirement already satisfied: pyasn1-modules>=0.2.1 in /usr/local/lib/python3.10/dist-packages (from google-auth>=2.15.0->google-generativeai) (0.4.0)\n",
            "Requirement already satisfied: rsa<5,>=3.1.4 in /usr/local/lib/python3.10/dist-packages (from google-auth>=2.15.0->google-generativeai) (4.9)\n",
            "Requirement already satisfied: PyYAML>=5.3 in /usr/local/lib/python3.10/dist-packages (from langchain-core<0.2,>=0.1.27->langchain-google-genai) (6.0.1)\n",
            "Requirement already satisfied: jsonpatch<2.0,>=1.33 in /usr/local/lib/python3.10/dist-packages (from langchain-core<0.2,>=0.1.27->langchain-google-genai) (1.33)\n",
            "Requirement already satisfied: langsmith<0.2.0,>=0.1.0 in /usr/local/lib/python3.10/dist-packages (from langchain-core<0.2,>=0.1.27->langchain-google-genai) (0.1.46)\n",
            "Requirement already satisfied: packaging<24.0,>=23.2 in /usr/local/lib/python3.10/dist-packages (from langchain-core<0.2,>=0.1.27->langchain-google-genai) (23.2)\n",
            "Requirement already satisfied: tenacity<9.0.0,>=8.1.0 in /usr/local/lib/python3.10/dist-packages (from langchain-core<0.2,>=0.1.27->langchain-google-genai) (8.2.3)\n",
            "Requirement already satisfied: annotated-types>=0.4.0 in /usr/local/lib/python3.10/dist-packages (from pydantic->google-generativeai) (0.6.0)\n",
            "Requirement already satisfied: pydantic-core==2.16.3 in /usr/local/lib/python3.10/dist-packages (from pydantic->google-generativeai) (2.16.3)\n",
            "Requirement already satisfied: googleapis-common-protos<2.0.dev0,>=1.56.2 in /usr/local/lib/python3.10/dist-packages (from google-api-core->google-generativeai) (1.63.0)\n",
            "Requirement already satisfied: requests<3.0.0.dev0,>=2.18.0 in /usr/local/lib/python3.10/dist-packages (from google-api-core->google-generativeai) (2.31.0)\n",
            "Requirement already satisfied: httplib2<1dev,>=0.15.0 in /usr/local/lib/python3.10/dist-packages (from google-api-python-client->google-generativeai) (0.22.0)\n",
            "Requirement already satisfied: google-auth-httplib2>=0.1.0 in /usr/local/lib/python3.10/dist-packages (from google-api-python-client->google-generativeai) (0.1.1)\n",
            "Requirement already satisfied: uritemplate<5,>=3.0.1 in /usr/local/lib/python3.10/dist-packages (from google-api-python-client->google-generativeai) (4.1.1)\n",
            "Requirement already satisfied: grpcio<2.0dev,>=1.33.2 in /usr/local/lib/python3.10/dist-packages (from google-api-core->google-generativeai) (1.62.1)\n",
            "Requirement already satisfied: grpcio-status<2.0.dev0,>=1.33.2 in /usr/local/lib/python3.10/dist-packages (from google-api-core->google-generativeai) (1.48.2)\n",
            "Requirement already satisfied: pyparsing!=3.0.0,!=3.0.1,!=3.0.2,!=3.0.3,<4,>=2.4.2 in /usr/local/lib/python3.10/dist-packages (from httplib2<1dev,>=0.15.0->google-api-python-client->google-generativeai) (3.1.2)\n",
            "Requirement already satisfied: jsonpointer>=1.9 in /usr/local/lib/python3.10/dist-packages (from jsonpatch<2.0,>=1.33->langchain-core<0.2,>=0.1.27->langchain-google-genai) (2.4)\n",
            "Requirement already satisfied: orjson<4.0.0,>=3.9.14 in /usr/local/lib/python3.10/dist-packages (from langsmith<0.2.0,>=0.1.0->langchain-core<0.2,>=0.1.27->langchain-google-genai) (3.10.0)\n",
            "Requirement already satisfied: pyasn1<0.7.0,>=0.4.6 in /usr/local/lib/python3.10/dist-packages (from pyasn1-modules>=0.2.1->google-auth>=2.15.0->google-generativeai) (0.6.0)\n",
            "Requirement already satisfied: charset-normalizer<4,>=2 in /usr/local/lib/python3.10/dist-packages (from requests<3.0.0.dev0,>=2.18.0->google-api-core->google-generativeai) (3.3.2)\n",
            "Requirement already satisfied: idna<4,>=2.5 in /usr/local/lib/python3.10/dist-packages (from requests<3.0.0.dev0,>=2.18.0->google-api-core->google-generativeai) (3.6)\n",
            "Requirement already satisfied: urllib3<3,>=1.21.1 in /usr/local/lib/python3.10/dist-packages (from requests<3.0.0.dev0,>=2.18.0->google-api-core->google-generativeai) (2.0.7)\n",
            "Requirement already satisfied: certifi>=2017.4.17 in /usr/local/lib/python3.10/dist-packages (from requests<3.0.0.dev0,>=2.18.0->google-api-core->google-generativeai) (2024.2.2)\n",
            "Installing collected packages: langchain-google-genai\n",
            "Successfully installed langchain-google-genai-1.0.2\n"
          ]
        }
      ]
    },
    {
      "cell_type": "markdown",
      "source": [
        "## Import the needed Libraries"
      ],
      "metadata": {
        "id": "dPOYRkTXWqDN"
      }
    },
    {
      "cell_type": "code",
      "execution_count": 8,
      "metadata": {
        "id": "tE6n-Fcj3kP3"
      },
      "outputs": [],
      "source": [
        "from langchain import hub\n",
        "from langchain.agents import load_tools\n",
        "\n",
        "from langchain import hub\n",
        "from langchain.agents import AgentExecutor, create_react_agent\n",
        "\n",
        "from langchain.agents import AgentType\n",
        "from langchain.chains import LLMChain\n",
        "from langchain.prompts import PromptTemplate\n",
        "from langchain.chains import SimpleSequentialChain\n",
        "from dotenv import load_dotenv, find_dotenv\n",
        "from langchain_google_genai import ChatGoogleGenerativeAI\n",
        "from langchain.prompts import PromptTemplate\n",
        "from langchain.chains import StuffDocumentsChain\n",
        "from langchain.chains.llm import LLMChain\n",
        "\n",
        "from langchain.tools import DuckDuckGoSearchRun\n",
        "\n",
        "_ = load_dotenv(find_dotenv()) # read local .env file"
      ]
    },
    {
      "cell_type": "code",
      "source": [
        "import pathlib\n",
        "import textwrap\n",
        "\n",
        "import google.generativeai as genai\n",
        "\n",
        "from IPython.display import display\n",
        "from IPython.display import Markdown"
      ],
      "metadata": {
        "id": "yULF89p07PWo"
      },
      "execution_count": 9,
      "outputs": []
    },
    {
      "cell_type": "markdown",
      "source": [
        "##Using Google Colab API key storage to securely retieve API key"
      ],
      "metadata": {
        "id": "mQVmnJGlW6_3"
      }
    },
    {
      "cell_type": "code",
      "source": [
        "# Used to securely store your API key\n",
        "from google.colab import userdata"
      ],
      "metadata": {
        "id": "XJkfxTqv7k4_"
      },
      "execution_count": 10,
      "outputs": []
    },
    {
      "cell_type": "markdown",
      "source": [
        "### Setup your API key\n",
        "\n",
        "Before you can use the Gemini API, you must first obtain an API key. If you don't already have one, create a key with one click in Google AI Studio.\n",
        "\n",
        "<a class=\"button button-primary\" href=\"https://makersuite.google.com/app/apikey\" target=\"_blank\" rel=\"noopener noreferrer\">Get an API key</a>\n",
        "\n",
        "In Colab, add the key to the secrets manager under the \"🔑\" in the left panel. Give it the name `GOOGLE_API_KEY`.\n",
        "\n",
        "Once you have the API key, pass it to the SDK. You can do this in two ways:\n",
        "\n",
        "* Put the key in the `GOOGLE_API_KEY` environment variable (the SDK will automatically pick it up from there).\n",
        "* Pass the key to `genai.configure(api_key=...)`"
      ],
      "metadata": {
        "id": "aD6S3hyVXAQN"
      }
    },
    {
      "cell_type": "code",
      "source": [
        "# Or use `os.getenv('GOOGLE_API_KEY')` to fetch an environment variable.\n",
        "GOOGLE_API_KEY=userdata.get('GOOGLE_API_KEY')\n",
        "\n",
        "genai.configure(api_key=GOOGLE_API_KEY)"
      ],
      "metadata": {
        "id": "5HLYH5638OYZ"
      },
      "execution_count": 11,
      "outputs": []
    },
    {
      "cell_type": "markdown",
      "source": [
        "## Getting the LLM\n",
        "\n",
        "* Tutorial from [here](https://dev.to/timesurgelabs/how-to-use-googles-gemini-pro-with-langchain-1eje)"
      ],
      "metadata": {
        "id": "3z2amGBaXLRl"
      }
    },
    {
      "cell_type": "code",
      "source": [
        "def get_llm():\n",
        "    llm = ChatGoogleGenerativeAI(model=\"gemini-pro\", google_api_key=GOOGLE_API_KEY)\n",
        "    return llm"
      ],
      "metadata": {
        "id": "oknqKeW47qbB"
      },
      "execution_count": 12,
      "outputs": []
    },
    {
      "cell_type": "markdown",
      "source": [
        "##  Chain-of-Thought prompt chain"
      ],
      "metadata": {
        "id": "4gyqJcLBc87I"
      }
    },
    {
      "cell_type": "code",
      "source": [
        "def generate_and_print_ChainOfThought(llm, q):\n",
        "    total_prompt = \"\"\"\"\"\"\n",
        "\n",
        "    template = \"\"\"Here is a statement:\n",
        "    {statement}\n",
        "    Make a bullet point list of the assumptions you made when given the above statement.\\n\\n\"\"\"\n",
        "    prompt_template = PromptTemplate(input_variables=[\"statement\"], template=template)\n",
        "    assumptions_chain = LLMChain(llm=llm, prompt=prompt_template)\n",
        "    total_prompt = total_prompt + template\n",
        "\n",
        "    template = \"\"\"Here is a bullet point list of assertions:\n",
        "    {assertions}\n",
        "    For each assertion, determine whether it is true or false. If it is false, explain why.\\n\\n\"\"\"\n",
        "    prompt_template = PromptTemplate(input_variables=[\"assertions\"], template=template)\n",
        "    fact_checker_chain = LLMChain(llm=llm, prompt=prompt_template)\n",
        "    total_prompt = total_prompt + template\n",
        "\n",
        "    template = \"\"\"Based on the above assertions, the final response is FALSE if one of the assertions is FALSE. Otherwise, TRUE. You should only respond with TRUE or FALSE.'{}'\"\"\".format(q)\n",
        "    template = \"\"\"{facts}\\n\"\"\" + template\n",
        "    prompt_template = PromptTemplate(input_variables=[\"facts\"], template=template)\n",
        "    answer_chain = LLMChain(llm=llm, prompt=prompt_template)\n",
        "    total_prompt = total_prompt + template\n",
        "\n",
        "    overall_chain = SimpleSequentialChain(chains=[assumptions_chain, fact_checker_chain, answer_chain], verbose=True)\n",
        "    answer = overall_chain.run(q)\n",
        "\n",
        "    return answer"
      ],
      "metadata": {
        "id": "Rkx9O9pD9qg4"
      },
      "execution_count": 13,
      "outputs": []
    },
    {
      "cell_type": "markdown",
      "source": [
        "##ReAct\n",
        "\n",
        "Reference on create react agaent could be found [here](https://wikidocs.net/236206)\n",
        "\n",
        "Tools for LangChain could be found [here](https://python.langchain.com/docs/integrations/tools/)\n",
        "\n",
        "How to use DuckDuckGo Search could be found [here](https://rito.hashnode.dev/building-langchain-agent-with-tools)"
      ],
      "metadata": {
        "id": "C2p9jBgWdFP3"
      }
    },
    {
      "cell_type": "code",
      "source": [
        "def generate_and_print_ReAct(llm, tl, q):\n",
        "    print(f'Inside generate_and_print: q = {q}')\n",
        "    tools = load_tools([tl], llm=llm) # tl = \"ddg-search\" or \"wikipedia\"\n",
        "\n",
        "    # create_react_agent Ref: https://wikidocs.net/236206\n",
        "    prompt = hub.pull(\"hwchase17/react\")\n",
        "    agent = create_react_agent(llm, tools, prompt)\n",
        "\n",
        "    agent_executor = AgentExecutor(agent=agent, tools=tools, verbose=True)\n",
        "\n",
        "    input = \"\"\"Here is a statement:\n",
        "    {statement}\n",
        "    Is this statement is correct? You can use tools to find information if needed.\n",
        "    The final response is FALSE if the statement is FALSE. Otherwise, TRUE.\"\"\"\n",
        "\n",
        "    answer = agent_executor.invoke({\"input\" : input.format(statement=q)})\n",
        "\n",
        "    return answer"
      ],
      "metadata": {
        "id": "zC6cbjNtNn6R"
      },
      "execution_count": 14,
      "outputs": []
    },
    {
      "cell_type": "markdown",
      "source": [
        "##Input your Fake News here"
      ],
      "metadata": {
        "id": "0mvUO_Ridcjm"
      }
    },
    {
      "cell_type": "markdown",
      "source": [
        "Sample Question: \"The first woman to receive a Ph.D. in computer science was Dr. Barbara Liskov, who earned her degree from Stanford University in 1968.\"\n",
        "\n",
        "Answers could be found in [Harness large language models in fake news detection](https://aws.amazon.com/blogs/machine-learning/harness-large-language-models-in-fake-news-detection/)"
      ],
      "metadata": {
        "id": "4LJEbCVGkoYe"
      }
    },
    {
      "cell_type": "code",
      "source": [
        "fakeNews = input(\"Enter the news here: \")"
      ],
      "metadata": {
        "colab": {
          "base_uri": "https://localhost:8080/"
        },
        "id": "PSbypDdRdcAq",
        "outputId": "14a97ac2-fb98-43f4-fdba-258202fcd093"
      },
      "execution_count": 31,
      "outputs": [
        {
          "name": "stdout",
          "output_type": "stream",
          "text": [
            "Enter the news here: Singapore's first Olympic gold medal was won by Joseph Schooling\n"
          ]
        }
      ]
    },
    {
      "cell_type": "code",
      "source": [
        "llm = get_llm()\n",
        "\n",
        "print('Chain-Of-Thought:')\n",
        "print('-----------------')\n",
        "display(Markdown(generate_and_print_ChainOfThought(llm, fakeNews)))\n",
        "\n",
        "print('\\nReAct (DuckDuckGo Search):')\n",
        "print('--------------------------')\n",
        "react = generate_and_print_ReAct(llm, \"ddg-search\",fakeNews)\n",
        "print(\"Input:\")\n",
        "display(Markdown(react['input']))\n",
        "print(\"Output:\")\n",
        "display(Markdown(react['output']))\n",
        "\n",
        "print('\\nReAct (Wikipedia):')\n",
        "print('--------------------------')\n",
        "react = generate_and_print_ReAct(llm, \"wikipedia\",fakeNews)\n",
        "print(\"Input:\")\n",
        "display(Markdown(react['input']))\n",
        "print(\"Output:\")\n",
        "display(Markdown(react['output']))"
      ],
      "metadata": {
        "colab": {
          "base_uri": "https://localhost:8080/",
          "height": 1000
        },
        "id": "c6kIt12zeiOC",
        "outputId": "cdb5f2c7-7eca-4997-8191-bcd04a66755d"
      },
      "execution_count": 32,
      "outputs": [
        {
          "output_type": "stream",
          "name": "stdout",
          "text": [
            "Chain-Of-Thought:\n",
            "-----------------\n",
            "\n",
            "\n",
            "\u001b[1m> Entering new SimpleSequentialChain chain...\u001b[0m\n",
            "\u001b[36;1m\u001b[1;3m- Joseph Schooling is a male swimmer.\n",
            "- Joseph Schooling is a Singaporean citizen.\n",
            "- Joseph Schooling won the gold medal in an individual event.\n",
            "- Joseph Schooling won the gold medal in a swimming event.\n",
            "- The Olympics are a sporting event.\n",
            "- The Olympics are held every four years.\n",
            "- The Olympics are a global event.\n",
            "- The Olympics are open to all countries.\n",
            "- The Olympics are a prestigious event.\n",
            "- Winning an Olympic gold medal is a significant achievement.\u001b[0m\n",
            "\u001b[33;1m\u001b[1;3m- Joseph Schooling is a male swimmer. **True**\n",
            "- Joseph Schooling is a Singaporean citizen. **True**\n",
            "- Joseph Schooling won the gold medal in an individual event. **True**\n",
            "- Joseph Schooling won the gold medal in a swimming event. **True**\n",
            "- The Olympics are a sporting event. **True**\n",
            "- The Olympics are held every four years. **True**\n",
            "- The Olympics are a global event. **True**\n",
            "- The Olympics are open to all countries. **True**\n",
            "- The Olympics are a prestigious event. **True**\n",
            "- Winning an Olympic gold medal is a significant achievement. **True**\u001b[0m\n",
            "\u001b[38;5;200m\u001b[1;3mTRUE\u001b[0m\n",
            "\n",
            "\u001b[1m> Finished chain.\u001b[0m\n"
          ]
        },
        {
          "output_type": "display_data",
          "data": {
            "text/plain": [
              "<IPython.core.display.Markdown object>"
            ],
            "text/markdown": "TRUE"
          },
          "metadata": {}
        },
        {
          "output_type": "stream",
          "name": "stdout",
          "text": [
            "\n",
            "ReAct (DuckDuckGo Search):\n",
            "--------------------------\n",
            "Inside generate_and_print: q = Singapore's first Olympic gold medal was won by Joseph Schooling\n",
            "\n",
            "\n",
            "\u001b[1m> Entering new AgentExecutor chain...\u001b[0m\n",
            "\u001b[32;1m\u001b[1;3mAction: duckduckgo_search\n",
            "Action Input: Singapore's first Olympic gold medal\u001b[0m\u001b[36;1m\u001b[1;3mJoseph Schooling, who beat Michael Phelps in the 100-meter butterfly to win Singapore's first and only Olympic gold medal at Rio de Janeiro in 2016, announced his retirement on Tuesday. It was the ... Singapore swimmer Joseph Schooling with his men's 100m butterfly gold medal at the 2016 Rio de Janeiro Olympics. (PHOTO: Clive Rose/Getty Images) SINGAPORE — A monumental sporting career has ended, as Joseph Schooling - Singapore's first and only Olympic gold medallist - announced on Tuesday (2 April) that he is retiring from competitive ... SINGAPORE: Joseph Schooling made history for Singapore when he won the country's first Olympic gold medal at the Rio Games in 2016. He had beaten US legend Michael Phelps in the 100m butterfly, at ... Joseph Schooling, the swimmer who won Singapore's first and to date only Olympic gold medal in 2016, has announced his retirement from the pool at the age of 28. Known in the city-state as ... Then came his crowning moment in 2016. Schooling, then a student at the University of Texas, won Singapore's first Olympics gold medal at the Rio Games, beating Michael Phelps and Chad le Clos in ...\u001b[0m\u001b[32;1m\u001b[1;3mAction: duckduckgo_search\n",
            "Action Input: Singapore's first Olympic gold medal\u001b[0m\u001b[36;1m\u001b[1;3mSchooling thus ends a glittering career that was so much more than his historic men's 100m butterfly Olympic gold medal. He is also the first Singaporean to win a swimming medal at the Commonwealth Games with his silver effort in the 2014 edition in Glasgow, as well as at the FINA World Aquatics Championships with his bronze medal in the 2015 edition in Kazan. SINGAPORE: Joseph Schooling made history for Singapore when he won the country's first Olympic gold medal at the Rio Games in 2016. He had beaten US legend Michael Phelps in the 100m butterfly, at ... Joseph Schooling, the swimmer who won Singapore's first and to date only Olympic gold medal in 2016, has announced his retirement from the pool at the age of 28. Known in the city-state as ... Then came his crowning moment in 2016. Schooling, then a student at the University of Texas, won Singapore's first Olympics gold medal at the Rio Games, beating Michael Phelps and Chad le Clos in ... April 2 (Reuters) - Joseph Schooling, the swimmer who won Singapore's first and to date only Olympic gold medal in 2016, announced on Tuesday that he had retired from the pool at the age of 28.\u001b[0m\u001b[32;1m\u001b[1;3mAction: duckduckgo_search\n",
            "Action Input: Singapore's first Olympic gold medal\u001b[0m\u001b[36;1m\u001b[1;3mSchooling thus ends a glittering career that was so much more than his historic men's 100m butterfly Olympic gold medal. He is also the first Singaporean to win a swimming medal at the Commonwealth Games with his silver effort in the 2014 edition in Glasgow, as well as at the FINA World Aquatics Championships with his bronze medal in the 2015 edition in Kazan. SINGAPORE: Joseph Schooling made history for Singapore when he won the country's first Olympic gold medal at the Rio Games in 2016. He had beaten US legend Michael Phelps in the 100m butterfly, at ... Then came his crowning moment in 2016. Schooling, then a student at the University of Texas, won Singapore's first Olympics gold medal at the Rio Games, beating Michael Phelps and Chad le Clos in ... Joseph Schooling, the swimmer who won Singapore's first and to date only Olympic gold medal in 2016, has announced his retirement from the pool at the age of 28. Known in the city-state as ... April 2 (Reuters) - Joseph Schooling, the swimmer who won Singapore's first and to date only Olympic gold medal in 2016, announced on Tuesday that he had retired from the pool at the age of 28.\u001b[0m\u001b[32;1m\u001b[1;3mAction: duckduckgo_search\n",
            "Action Input: who won Singapore's first Olympic gold medal\u001b[0m\u001b[36;1m\u001b[1;3mSchooling thus ends a glittering career that was so much more than his historic men's 100m butterfly Olympic gold medal. He is also the first Singaporean to win a swimming medal at the Commonwealth Games with his silver effort in the 2014 edition in Glasgow, as well as at the FINA World Aquatics Championships with his bronze medal in the 2015 edition in Kazan. Michael Sohn/AP. SINGAPORE (AP) — Joseph Schooling, who beat Michael Phelps in the 100-meter butterfly to win Singapore's first and only Olympic gold medal at Rio de Janeiro in 2016, announced ... SINGAPORE (AP) — Joseph Schooling, who beat Michael Phelps in the 100-meter butterfly to win Singapore's first and only Olympic gold medal at Rio de Janeiro in 2016, announced his retirement on Tuesday. It was the American swimming legend Phelps' last individual race of his career and came after April 2 (Reuters) - Joseph Schooling, the swimmer who won Singapore's first and to date only Olympic gold medal in 2016, announced on Tuesday that he had retired from the pool at the age of 28. SINGAPORE: Joseph Schooling made history for Singapore when he won the country's first Olympic gold medal at the Rio Games in 2016. He had beaten US legend Michael Phelps in the 100m butterfly, at ...\u001b[0m\u001b[32;1m\u001b[1;3mAction: duckduckgo_search\n",
            "Action Input: Singapore's first Olympic gold medal\u001b[0m\u001b[36;1m\u001b[1;3mSchooling thus ends a glittering career that was so much more than his historic men's 100m butterfly Olympic gold medal. He is also the first Singaporean to win a swimming medal at the Commonwealth Games with his silver effort in the 2014 edition in Glasgow, as well as at the FINA World Aquatics Championships with his bronze medal in the 2015 edition in Kazan. SINGAPORE: Joseph Schooling made history for Singapore when he won the country's first Olympic gold medal at the Rio Games in 2016. He had beaten US legend Michael Phelps in the 100m butterfly, at ... Then came his crowning moment in 2016. Schooling, then a student at the University of Texas, won Singapore's first Olympics gold medal at the Rio Games, beating Michael Phelps and Chad le Clos in ... Joseph Schooling, the swimmer who won Singapore's first and to date only Olympic gold medal in 2016, has announced his retirement from the pool at the age of 28. Known in the city-state as ... SINGAPORE -- Joseph Schooling, who beat Michael Phelps in the 100-meter butterfly to win Singapore's first and only Olympic gold medal at Rio de Janeiro in 2016, announced his retirement on Tuesday.\u001b[0m\u001b[32;1m\u001b[1;3mI now know the final answer\n",
            "Final Answer: TRUE\u001b[0m\n",
            "\n",
            "\u001b[1m> Finished chain.\u001b[0m\n",
            "Input:\n"
          ]
        },
        {
          "output_type": "display_data",
          "data": {
            "text/plain": [
              "<IPython.core.display.Markdown object>"
            ],
            "text/markdown": "Here is a statement:\n    Singapore's first Olympic gold medal was won by Joseph Schooling\n    Is this statement is correct? You can use tools to find information if needed.\n    The final response is FALSE if the statement is FALSE. Otherwise, TRUE."
          },
          "metadata": {}
        },
        {
          "output_type": "stream",
          "name": "stdout",
          "text": [
            "Output:\n"
          ]
        },
        {
          "output_type": "display_data",
          "data": {
            "text/plain": [
              "<IPython.core.display.Markdown object>"
            ],
            "text/markdown": "TRUE"
          },
          "metadata": {}
        },
        {
          "output_type": "stream",
          "name": "stdout",
          "text": [
            "\n",
            "ReAct (Wikipedia):\n",
            "--------------------------\n",
            "Inside generate_and_print: q = Singapore's first Olympic gold medal was won by Joseph Schooling\n",
            "\n",
            "\n",
            "\u001b[1m> Entering new AgentExecutor chain...\u001b[0m\n",
            "\u001b[32;1m\u001b[1;3mAction: wikipedia\n",
            "Action Input: Singapore's first Olympic gold medal\u001b[0m\u001b[36;1m\u001b[1;3mPage: Singapore at the Olympics\n",
            "Summary: Singapore has sent athletes to the celebration of the Olympic Games since 1948, when it was established as a separate British crown colony from the Straits Settlements just over three months before the commencement of the 1948 Summer Olympics.\n",
            "It continued to send a team to the Games until 1964 when the Singaporean delegation competed with Malaysia, which sent a combined team.\n",
            "Upon Singapore's full independence from Malaysia in 1965, the country continued to participate in all subsequent editions of the Summer Olympics except in 1980 when the country participated in a large United States–led boycott against the Soviet invasion of Afghanistan.\n",
            "Singapore made their Winter Olympics debut at the 2018 Winter Olympics, with speed skater, Cheyenne Goh, competing in the short track speed skating event. The Singapore National Olympic Council (SNOC) is the National Olympic Committee for Singapore.\n",
            "\n",
            "\n",
            "\n",
            "Page: List of first Olympic gold medalists by country\n",
            "Summary: The following table list the first Olympic gold medal won by each National Olympic Committee (NOC).\n",
            "James Brendan Connolly of the United States is credited as the first ever gold medalist of the modern Olympic Games.In some cases, a NOC may garner multiple gold medals in the same edition where it won its first ever gold medal. Scheduling of events is a factor that plays a part in who is considered the first Olympic gold medalist for a nation.\n",
            "Names in italic are national entities that no longer exist.\n",
            "\n",
            "Page: Singapore\n",
            "Summary: Singapore, officially the Republic of Singapore, is an island country and city-state in maritime Southeast Asia. It is located about one degree of latitude (137 kilometres or 85 miles) north of the equator, off the southern tip of the Malay Peninsula, bordering the Strait of Malacca to the west, the Singapore Strait to the south along with the Riau Islands in Indonesia, the South China Sea to the east, and the Straits of Johor along with the State of Johor in Malaysia to the north. The country's territory comprises one main island, 63 satellite islands and islets, and one outlying islet; the combined area of these has increased by approximately 25% since the country's independence as a result of extensive land reclamation projects. It has the second highest population density of any country in the world, although there are numerous green and recreational spaces as a result of urban planning. With a multicultural population and in recognition of the cultural identities of the major ethnic groups within the nation, Singapore has four official languages: English, Malay, Mandarin, and Tamil. English is the lingua franca, with its exclusive use in numerous public services. Multi-racialism is enshrined in the constitution and continues to shape national policies in education, housing, and politics.\n",
            "Singapore's history dates back at least eight hundred years, having been a maritime emporium known as Temasek and subsequently a major constituent part of several successive thalassocratic empires. Its contemporary era began in 1819, when Stamford Raffles established Singapore as an entrepôt trading post of the British Empire. In 1867, the colonies in Southeast Asia were reorganised, and Singapore came under the direct control of Britain as part of the Straits Settlements. During World War II, Singapore was occupied by Japan in 1942 and returned to British control as a separate Crown colony following Japan's surrender in 1945. Singapore gained self-governance in 1959 and, in 1963, became part of the new federation of Malaysia, alongside Malaya, North Borneo, and Sarawak. Ideological differences, most notably the perceived encroachment of the egalitarian \"Malaysian Malaysia\" political ideology led by Lee Kuan Yew into the other constituent entities of Malaysia—at the perceived expense of the bumiputera and the policies of Ketuanan Melayu—eventually led to Singapore's expulsion from the federation two years later; Singapore becam\u001b[0m\u001b[32;1m\u001b[1;3mAction: wikipedia\n",
            "Action Input: Joseph Schooling Olympic gold medal\u001b[0m\u001b[36;1m\u001b[1;3mPage: Joseph Schooling\n",
            "Summary: Joseph Isaac Schooling  (born 16 June 1995) is a former Singaporean professional swimmer who specialises in butterfly, freestyle and medley events. He was the gold medalist in the 100m butterfly at the 2016 Olympics, achieving Singapore's first ever Olympic gold medal. His winning time of 50.39s broke multiple records at the National, Southeast Asian, Asian and Olympic levels.\n",
            "An alumnus of the Anglo-Chinese School, he subsequently graduated from the University of Texas at Austin, where he was a member of the Texas Longhorns swimming team, one of the top collegiate swim programmes under two-time United States Olympic men's head coach Eddie Reese. He first qualified for the Olympics in 2012 after winning the 200m butterfly at the 2011 SEA Games.On 2 April 2024, he announced his retirement from competitive swimming to focus to his swim school and other business ventures.\n",
            "\n",
            "Page: Singapore at the Olympics\n",
            "Summary: Singapore has sent athletes to the celebration of the Olympic Games since 1948, when it was established as a separate British crown colony from the Straits Settlements just over three months before the commencement of the 1948 Summer Olympics.\n",
            "It continued to send a team to the Games until 1964 when the Singaporean delegation competed with Malaysia, which sent a combined team.\n",
            "Upon Singapore's full independence from Malaysia in 1965, the country continued to participate in all subsequent editions of the Summer Olympics except in 1980 when the country participated in a large United States–led boycott against the Soviet invasion of Afghanistan.\n",
            "Singapore made their Winter Olympics debut at the 2018 Winter Olympics, with speed skater, Cheyenne Goh, competing in the short track speed skating event. The Singapore National Olympic Council (SNOC) is the National Olympic Committee for Singapore.\n",
            "\n",
            "\n",
            "\n",
            "Page: 2016 Summer Olympics medal table\n",
            "Summary: The following medal table is a list of National Olympic Committees (NOCs) and one non-NOC team  ranked by the number of gold medals won by their athletes during the 2016 Summer Olympics in Rio de Janeiro, from 5 to 21 August 2016.Vietnam, Kosovo, Fiji, Singapore, Puerto Rico, Bahrain, Jordan, Tajikistan and Ivory Coast won their first Olympic gold medals (however, Bahrain retroactively was awarded a gold medal for the 2012 Summer Olympics in 2017 due to medals reallocation). They were also the first Olympic medals of any kind for Kosovo, Jordan and Fiji. Kuwaiti shooter Fehaid Al-Deehani became the first independent athlete to win a gold medal, though gold medals have been won under the Olympic flag by other entities, such as countries that competed under the flag at 1980 Summer Olympics in Moscow or the Unified Team in 1992.\n",
            "The United States of America led the medal table both in number of gold medals won and in overall medals, winning 46 gold and 121 total medals respectively. Behind the United States, Great Britain were second on the medal table by golds (27) and third by overall medals (67) – their highest ranked finishes in gold since the home games of 1908 and in overall medals since 1920  – while China were third by golds (26) and second by overall medals (70). Both countries were well clear of a following group in the table that included Russia, Germany,  France and 2020 host Japan.\n",
            "Athletes from 87 nations earned medals at the 2016 Summer Olympics, breaking the record of most nations winning a medal at a single edition of the Olympics. However, following reallocation due to doping sanctions, an 87th country was later awarded a medal at the 2008 Olympics, tying the record. Athletes from 59 nations earned gold medals at these games, also breaking the record for the most nations winning gold at a single games. Host country Brazil won seven gold medals, their most at any single Summer Olympics.\u001b[0m\u001b[32;1m\u001b[1;3mFinal Answer: TRUE\u001b[0m\n",
            "\n",
            "\u001b[1m> Finished chain.\u001b[0m\n",
            "Input:\n"
          ]
        },
        {
          "output_type": "display_data",
          "data": {
            "text/plain": [
              "<IPython.core.display.Markdown object>"
            ],
            "text/markdown": "Here is a statement:\n    Singapore's first Olympic gold medal was won by Joseph Schooling\n    Is this statement is correct? You can use tools to find information if needed.\n    The final response is FALSE if the statement is FALSE. Otherwise, TRUE."
          },
          "metadata": {}
        },
        {
          "output_type": "stream",
          "name": "stdout",
          "text": [
            "Output:\n"
          ]
        },
        {
          "output_type": "display_data",
          "data": {
            "text/plain": [
              "<IPython.core.display.Markdown object>"
            ],
            "text/markdown": "TRUE"
          },
          "metadata": {}
        }
      ]
    }
  ]
}